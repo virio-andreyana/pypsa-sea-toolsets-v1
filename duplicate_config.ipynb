{
 "cells": [
  {
   "cell_type": "code",
   "execution_count": 6,
   "id": "ad9291f1-8f14-482a-80f0-0142c345ec29",
   "metadata": {},
   "outputs": [],
   "source": [
    "import collections.abc\n",
    "import copy\n",
    "import os\n",
    "from pathlib import Path\n",
    "\n",
    "from ruamel.yaml import YAML\n",
    "from distutils.dir_util import copy_tree"
   ]
  },
  {
   "cell_type": "markdown",
   "id": "d625a08a-81ba-4af2-b596-5cd16e0a08ae",
   "metadata": {},
   "source": [
    "# Duplicate config file"
   ]
  },
  {
   "cell_type": "code",
   "execution_count": 7,
   "id": "aff31def-0cef-44f4-82b8-5257a545af19",
   "metadata": {},
   "outputs": [],
   "source": [
    "def update(d, u):\n",
    "    for k, v in u.items():\n",
    "        if isinstance(v, collections.abc.Mapping):\n",
    "            d[k] = update(d.get(k, {}), v)\n",
    "        else:\n",
    "            d[k] = v\n",
    "    return d\n",
    "\n",
    "\n",
    "def _parse_inputconfig(input_config, yaml):\n",
    "    \"\"\"\n",
    "    Utility function to parse input config into a dictionary.\n",
    "    \"\"\"\n",
    "    if isinstance(input_config, dict):\n",
    "        return input_config\n",
    "\n",
    "    if isinstance(input_config, str):\n",
    "        input_config = Path(Path.cwd(), input_config)\n",
    "\n",
    "    with open(input_config) as fp:\n",
    "        return yaml.load(fp)\n",
    "\n",
    "def create_test_config(default_config, diff_config, output_path):\n",
    "    \"\"\"\n",
    "    This function takes as input a default dictionary-like object and a\n",
    "    difference dictionary-like object, merges the changes of the latter into\n",
    "    the former, and saves the output in the desired output path.\n",
    "\n",
    "    Inputs\n",
    "    ------\n",
    "    default_config : dict or path-like\n",
    "        Default dictionary-like object provided as\n",
    "        a dictionary or a path to a yaml file\n",
    "    diff_config : dict or path-like\n",
    "        Difference dictionary-like object provided as\n",
    "        a dictionary or a path to a yaml file\n",
    "    output_path : path-like\n",
    "        Output path where the merged dictionary is saved\n",
    "\n",
    "    Outputs\n",
    "    -------\n",
    "    - merged dictionary\n",
    "    \"\"\"\n",
    "\n",
    "    # Load yaml files\n",
    "    yaml = YAML()\n",
    "\n",
    "    default_config = _parse_inputconfig(default_config, yaml)\n",
    "    diff_config = _parse_inputconfig(diff_config, yaml)\n",
    "\n",
    "    # create updated yaml\n",
    "    merged_config = update(copy.deepcopy(default_config), diff_config)\n",
    "\n",
    "    # Output path\n",
    "    if isinstance(output_path, str):\n",
    "        output_path = Path(Path.cwd(), output_path)\n",
    "\n",
    "    # Save file\n",
    "    yaml.dump(merged_config, output_path)\n",
    "\n",
    "    return merged_config"
   ]
  },
  {
   "cell_type": "code",
   "execution_count": 13,
   "id": "17c915a5-1c41-4e0a-94db-a365ec9ce6d0",
   "metadata": {},
   "outputs": [],
   "source": [
    "base_config_path = \"../pypsa-earth/config.SEA_base.yaml\"\n",
    "diff_config_path = \"../pypsa-earth/configs/scenarios/config.SEA_AEO8_AIMS_2050.yaml\""
   ]
  },
  {
   "cell_type": "code",
   "execution_count": 3,
   "id": "ce7a3050-04a5-4121-94b6-d3b2891d382d",
   "metadata": {},
   "outputs": [],
   "source": [
    "base_config_path = \"../form-energy-storage/config/config.default.yaml\"\n",
    "diff_config_path = \"../form-energy-storage/config/config.form.yaml\""
   ]
  },
  {
   "cell_type": "code",
   "execution_count": 5,
   "id": "16c9e946-8646-411d-89cf-f8c7b2fa2915",
   "metadata": {},
   "outputs": [
    {
     "ename": "TypeError",
     "evalue": "'bool' object does not support item assignment",
     "output_type": "error",
     "traceback": [
      "\u001b[1;31m---------------------------------------------------------------------------\u001b[0m",
      "\u001b[1;31mTypeError\u001b[0m                                 Traceback (most recent call last)",
      "Cell \u001b[1;32mIn[5], line 1\u001b[0m\n\u001b[1;32m----> 1\u001b[0m \u001b[43mcreate_test_config\u001b[49m\u001b[43m(\u001b[49m\u001b[43mbase_config_path\u001b[49m\u001b[43m,\u001b[49m\u001b[43m \u001b[49m\u001b[43mdiff_config_path\u001b[49m\u001b[43m,\u001b[49m\u001b[43m \u001b[49m\u001b[38;5;124;43m\"\u001b[39;49m\u001b[38;5;124;43m../form-energy-storage/config.yaml\u001b[39;49m\u001b[38;5;124;43m\"\u001b[39;49m\u001b[43m)\u001b[49m\n",
      "Cell \u001b[1;32mIn[2], line 52\u001b[0m, in \u001b[0;36mcreate_test_config\u001b[1;34m(default_config, diff_config, output_path)\u001b[0m\n\u001b[0;32m     49\u001b[0m diff_config \u001b[38;5;241m=\u001b[39m _parse_inputconfig(diff_config, yaml)\n\u001b[0;32m     51\u001b[0m \u001b[38;5;66;03m# create updated yaml\u001b[39;00m\n\u001b[1;32m---> 52\u001b[0m merged_config \u001b[38;5;241m=\u001b[39m \u001b[43mupdate\u001b[49m\u001b[43m(\u001b[49m\u001b[43mcopy\u001b[49m\u001b[38;5;241;43m.\u001b[39;49m\u001b[43mdeepcopy\u001b[49m\u001b[43m(\u001b[49m\u001b[43mdefault_config\u001b[49m\u001b[43m)\u001b[49m\u001b[43m,\u001b[49m\u001b[43m \u001b[49m\u001b[43mdiff_config\u001b[49m\u001b[43m)\u001b[49m\n\u001b[0;32m     54\u001b[0m \u001b[38;5;66;03m# Output path\u001b[39;00m\n\u001b[0;32m     55\u001b[0m \u001b[38;5;28;01mif\u001b[39;00m \u001b[38;5;28misinstance\u001b[39m(output_path, \u001b[38;5;28mstr\u001b[39m):\n",
      "Cell \u001b[1;32mIn[2], line 4\u001b[0m, in \u001b[0;36mupdate\u001b[1;34m(d, u)\u001b[0m\n\u001b[0;32m      2\u001b[0m \u001b[38;5;28;01mfor\u001b[39;00m k, v \u001b[38;5;129;01min\u001b[39;00m u\u001b[38;5;241m.\u001b[39mitems():\n\u001b[0;32m      3\u001b[0m     \u001b[38;5;28;01mif\u001b[39;00m \u001b[38;5;28misinstance\u001b[39m(v, collections\u001b[38;5;241m.\u001b[39mabc\u001b[38;5;241m.\u001b[39mMapping):\n\u001b[1;32m----> 4\u001b[0m         d[k] \u001b[38;5;241m=\u001b[39m \u001b[43mupdate\u001b[49m\u001b[43m(\u001b[49m\u001b[43md\u001b[49m\u001b[38;5;241;43m.\u001b[39;49m\u001b[43mget\u001b[49m\u001b[43m(\u001b[49m\u001b[43mk\u001b[49m\u001b[43m,\u001b[49m\u001b[43m \u001b[49m\u001b[43m{\u001b[49m\u001b[43m}\u001b[49m\u001b[43m)\u001b[49m\u001b[43m,\u001b[49m\u001b[43m \u001b[49m\u001b[43mv\u001b[49m\u001b[43m)\u001b[49m\n\u001b[0;32m      5\u001b[0m     \u001b[38;5;28;01melse\u001b[39;00m:\n\u001b[0;32m      6\u001b[0m         d[k] \u001b[38;5;241m=\u001b[39m v\n",
      "Cell \u001b[1;32mIn[2], line 4\u001b[0m, in \u001b[0;36mupdate\u001b[1;34m(d, u)\u001b[0m\n\u001b[0;32m      2\u001b[0m \u001b[38;5;28;01mfor\u001b[39;00m k, v \u001b[38;5;129;01min\u001b[39;00m u\u001b[38;5;241m.\u001b[39mitems():\n\u001b[0;32m      3\u001b[0m     \u001b[38;5;28;01mif\u001b[39;00m \u001b[38;5;28misinstance\u001b[39m(v, collections\u001b[38;5;241m.\u001b[39mabc\u001b[38;5;241m.\u001b[39mMapping):\n\u001b[1;32m----> 4\u001b[0m         d[k] \u001b[38;5;241m=\u001b[39m \u001b[43mupdate\u001b[49m\u001b[43m(\u001b[49m\u001b[43md\u001b[49m\u001b[38;5;241;43m.\u001b[39;49m\u001b[43mget\u001b[49m\u001b[43m(\u001b[49m\u001b[43mk\u001b[49m\u001b[43m,\u001b[49m\u001b[43m \u001b[49m\u001b[43m{\u001b[49m\u001b[43m}\u001b[49m\u001b[43m)\u001b[49m\u001b[43m,\u001b[49m\u001b[43m \u001b[49m\u001b[43mv\u001b[49m\u001b[43m)\u001b[49m\n\u001b[0;32m      5\u001b[0m     \u001b[38;5;28;01melse\u001b[39;00m:\n\u001b[0;32m      6\u001b[0m         d[k] \u001b[38;5;241m=\u001b[39m v\n",
      "Cell \u001b[1;32mIn[2], line 6\u001b[0m, in \u001b[0;36mupdate\u001b[1;34m(d, u)\u001b[0m\n\u001b[0;32m      4\u001b[0m         d[k] \u001b[38;5;241m=\u001b[39m update(d\u001b[38;5;241m.\u001b[39mget(k, {}), v)\n\u001b[0;32m      5\u001b[0m     \u001b[38;5;28;01melse\u001b[39;00m:\n\u001b[1;32m----> 6\u001b[0m         \u001b[43md\u001b[49m\u001b[43m[\u001b[49m\u001b[43mk\u001b[49m\u001b[43m]\u001b[49m \u001b[38;5;241m=\u001b[39m v\n\u001b[0;32m      7\u001b[0m \u001b[38;5;28;01mreturn\u001b[39;00m d\n",
      "\u001b[1;31mTypeError\u001b[0m: 'bool' object does not support item assignment"
     ]
    }
   ],
   "source": [
    "create_test_config(base_config_path, diff_config_path, \"../form-energy-storage/workflow/pypsa-eur/config/config.yaml\")"
   ]
  },
  {
   "cell_type": "markdown",
   "id": "3be77d9a-1bc9-4716-a226-66b5b5954133",
   "metadata": {},
   "source": [
    "# Duplicate Resources and Networks"
   ]
  },
  {
   "cell_type": "code",
   "execution_count": 11,
   "id": "f3227274-c6d1-4fa2-a3f4-b3a394379e5d",
   "metadata": {},
   "outputs": [],
   "source": [
    "resource_path = \"../pypsa-earth/resources/\"\n",
    "network_path = \"../pypsa-earth/networks/\"\n",
    "\n",
    "source = \"SEA_BAU_2025\"\n",
    "destination = {\"SEA_BAU_2030\",\"SEA_BAU_2035\",\"SEA_BAU_2040\",\"SEA_BAU_2045\",\"SEA_BAU_2050\"}\n",
    "\n",
    "for dest in destination:\n",
    "    copy_tree(network_path + source, network_path + dest)"
   ]
  },
  {
   "cell_type": "code",
   "execution_count": 12,
   "id": "59fe72c1-c8fc-4aac-85af-0e28a423a1d6",
   "metadata": {},
   "outputs": [],
   "source": [
    "for dest in destination:\n",
    "    copy_tree(resource_path + source, resource_path + dest)"
   ]
  },
  {
   "cell_type": "code",
   "execution_count": null,
   "id": "d59a2e9c-1d86-42a3-942e-93cef3db14ae",
   "metadata": {},
   "outputs": [],
   "source": []
  }
 ],
 "metadata": {
  "kernelspec": {
   "display_name": "Python 3 (ipykernel)",
   "language": "python",
   "name": "python3"
  },
  "language_info": {
   "codemirror_mode": {
    "name": "ipython",
    "version": 3
   },
   "file_extension": ".py",
   "mimetype": "text/x-python",
   "name": "python",
   "nbconvert_exporter": "python",
   "pygments_lexer": "ipython3",
   "version": "3.10.14"
  }
 },
 "nbformat": 4,
 "nbformat_minor": 5
}
